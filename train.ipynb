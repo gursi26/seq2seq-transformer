{
  "cells": [
    {
      "cell_type": "code",
      "execution_count": null,
      "metadata": {
        "id": "6i9wNNW551BR"
      },
      "outputs": [],
      "source": [
        "from torch.utils.data import DataLoader\n",
        "import torch\n",
        "from torch import nn, optim\n",
        "from torch.utils.data import Dataset\n",
        "import torch\n",
        "from tqdm import tqdm\n",
        "\n",
        "from dataset import EngSpaDataset\n",
        "from model import Seq2SeqTransformer\n",
        "from utils import inference, TransformerScheduler, PadCollate, prepare_mask"
      ]
    },
    {
      "cell_type": "code",
      "execution_count": null,
      "metadata": {
        "id": "533kuQGh51Ba"
      },
      "outputs": [],
      "source": [
        "LR = 1e-9\n",
        "BETAS = [0.9, 0.98]\n",
        "WARMUP_STEPS = 1\n",
        "D_MODEL = 512\n",
        "NUM_HEADS = 8\n",
        "ENC_LAYERS = 6\n",
        "DEC_LAYERS = 6\n",
        "DEV = torch.device(\"mps\")\n",
        "\n",
        "DATASET_PATH = \"eng-spa.csv\"\n",
        "SAVE_PATH = \"/\"\n",
        "\n",
        "BATCH_SIZE = 128\n",
        "EPOCHS = 100"
      ]
    },
    {
      "cell_type": "code",
      "execution_count": null,
      "metadata": {
        "colab": {
          "base_uri": "https://localhost:8080/"
        },
        "id": "iOpExX-051Ba",
        "outputId": "328748c5-1182-4bec-e0fd-0e244dc8eae4"
      },
      "outputs": [],
      "source": [
        "dataset = EngSpaDataset(DATASET_PATH)\n",
        "loader = DataLoader(dataset, batch_size=BATCH_SIZE, shuffle=False, collate_fn=PadCollate())\n",
        "\n",
        "model = Seq2SeqTransformer(\n",
        "        src_dim=len(dataset.eng2idx),\n",
        "        tgt_dim=len(dataset.spa2idx),\n",
        "        d_model=D_MODEL,\n",
        "        num_heads=NUM_HEADS,\n",
        "        enc_layers=ENC_LAYERS,\n",
        "        dec_layers=DEC_LAYERS\n",
        "    ).to(DEV)\n",
        "model.load_state_dict(torch.load(\"2.pth\", map_location=DEV))\n",
        "model = model.eval()"
      ]
    },
    {
      "cell_type": "code",
      "execution_count": null,
      "metadata": {
        "id": "v_l_X25w51Ba"
      },
      "outputs": [],
      "source": [
        "crit = nn.CrossEntropyLoss()\n",
        "opt = optim.Adam(model.parameters(), lr=LR)\n",
        "scheduler = TransformerScheduler(opt, WARMUP_STEPS, D_MODEL)"
      ]
    },
    {
      "cell_type": "code",
      "execution_count": null,
      "metadata": {
        "colab": {
          "base_uri": "https://localhost:8080/",
          "height": 417
        },
        "id": "qkYOn7Bp51Ba",
        "outputId": "51e16f4b-08cb-4fda-ebf1-56902dd23c36"
      },
      "outputs": [],
      "source": [
        "for e in range(1, EPOCHS + 1):\n",
        "    loop = tqdm(enumerate(loader), total=len(loader))\n",
        "    loop.set_description(f\"Epoch : [{e}/{EPOCHS}]\")\n",
        "    total_loss = 0\n",
        "    model = model.train()\n",
        "    for i, ((src, src_mask), (dec_input, dec_mask), tgt) in loop:\n",
        "        src, dec_input, tgt = src.to(DEV), dec_input.to(DEV), tgt.to(DEV)\n",
        "        src_mask = prepare_mask(src_mask).to(DEV)\n",
        "        dec_mask = prepare_mask(dec_mask, no_peek_future=True).to(DEV)\n",
        "\n",
        "        opt.zero_grad()\n",
        "        yhat = model(src, dec_input, src_mask, dec_mask)\n",
        "        loss = crit(yhat.view(-1, yhat.shape[-1]), tgt.view(-1))\n",
        "        loss.backward()\n",
        "        nn.utils.clip_grad_norm_(model.parameters(), 0.5)\n",
        "        opt.step()\n",
        "\n",
        "        total_loss += loss.item()\n",
        "        loop.set_postfix(avg_loss = total_loss / (i + 1))\n",
        "        scheduler.step()\n",
        "\n",
        "    model = model.eval()\n",
        "    with torch.no_grad():\n",
        "        pred = inference(\"i like to swim\", model, dataset, DEV, max_gen_len=20)\n",
        "    print(f\"Epoch {e} : {pred}\")\n",
        "    torch.save(model.state_dict(), SAVE_PATH + f\"{e}.pth\")"
      ]
    }
  ],
  "metadata": {
    "accelerator": "GPU",
    "colab": {
      "collapsed_sections": [
        "P0B0BN7V51BU",
        "SFRCa6OQ51BW",
        "JKY6kfc251BX",
        "Ce4oAlsY51BY",
        "eeCK_Oor51BZ",
        "ekvyyX1f51BZ"
      ],
      "gpuType": "T4",
      "provenance": []
    },
    "kernelspec": {
      "display_name": "Python 3",
      "name": "python3"
    },
    "language_info": {
      "codemirror_mode": {
        "name": "ipython",
        "version": 3
      },
      "file_extension": ".py",
      "mimetype": "text/x-python",
      "name": "python",
      "nbconvert_exporter": "python",
      "pygments_lexer": "ipython3",
      "version": "3.9.13"
    },
    "orig_nbformat": 4
  },
  "nbformat": 4,
  "nbformat_minor": 0
}
