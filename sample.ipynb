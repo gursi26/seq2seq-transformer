{
 "cells": [
  {
   "cell_type": "code",
   "execution_count": 1,
   "metadata": {},
   "outputs": [],
   "source": [
    "from dataset import EngSpaDataset\n",
    "from model import Seq2SeqTransformer\n",
    "from utils import inference\n",
    "import torch"
   ]
  },
  {
   "cell_type": "code",
   "execution_count": 3,
   "metadata": {},
   "outputs": [],
   "source": [
    "DEV = torch.device(\"mps\")\n",
    "dataset = EngSpaDataset(\"eng-spa.csv\")\n",
    "model = Seq2SeqTransformer(\n",
    "        src_dim=len(dataset.eng2idx),\n",
    "        tgt_dim=len(dataset.spa2idx),\n",
    "        d_model=512,\n",
    "        num_heads=8,\n",
    "        enc_layers=6,\n",
    "        dec_layers=6\n",
    "    ).to(DEV)\n",
    "model.load_state_dict(torch.load(\"weights.pth\", map_location=DEV))\n",
    "model = model.eval()"
   ]
  },
  {
   "cell_type": "code",
   "execution_count": 7,
   "metadata": {},
   "outputs": [
    {
     "data": {
      "text/plain": [
       "'<SOS> hola ¿cómo estás hola ¿cómo estás hola hola hola hola ¿cómo estás hola <EOS>'"
      ]
     },
     "execution_count": 7,
     "metadata": {},
     "output_type": "execute_result"
    }
   ],
   "source": [
    "inference(\"hello, how are you\", model, dataset, DEV, 50)"
   ]
  },
  {
   "cell_type": "code",
   "execution_count": 8,
   "metadata": {},
   "outputs": [
    {
     "data": {
      "text/plain": [
       "'<SOS> me gusta jugar al tenis libre en mi tiempo libre libre libre libre libre en mi tiempo libre <EOS>'"
      ]
     },
     "execution_count": 8,
     "metadata": {},
     "output_type": "execute_result"
    }
   ],
   "source": [
    "inference(\"i like to play tennis in my free time\", model, dataset, DEV, 50)"
   ]
  },
  {
   "cell_type": "code",
   "execution_count": 9,
   "metadata": {},
   "outputs": [
    {
     "data": {
      "text/plain": [
       "'<SOS> esto llevó mucho tiempo en hacer esto para preparar mucho tiempo de hacerlo por hacer esto <EOS>'"
      ]
     },
     "execution_count": 9,
     "metadata": {},
     "output_type": "execute_result"
    }
   ],
   "source": [
    "inference(\"this took very long to make\", model, dataset, DEV, 50)"
   ]
  },
  {
   "cell_type": "code",
   "execution_count": 10,
   "metadata": {},
   "outputs": [
    {
     "data": {
      "text/plain": [
       "'<SOS> ahora quiero dormir en realidad quiero dormir profundamente quiero dormir con realmente dormir <EOS>'"
      ]
     },
     "execution_count": 10,
     "metadata": {},
     "output_type": "execute_result"
    }
   ],
   "source": [
    "inference(\"i really want to sleep now\", model, dataset, DEV, 50)"
   ]
  },
  {
   "cell_type": "code",
   "execution_count": 11,
   "metadata": {},
   "outputs": [
    {
     "data": {
      "text/plain": [
       "'<SOS> aún funciona y funciona aún apenas funciona y aún apenas funciona y aún funciona y aún así funciona <EOS>'"
      ]
     },
     "execution_count": 11,
     "metadata": {},
     "output_type": "execute_result"
    }
   ],
   "source": [
    "inference(\"and it still barely works\", model, dataset, DEV, 50)"
   ]
  }
 ],
 "metadata": {
  "kernelspec": {
   "display_name": "ml",
   "language": "python",
   "name": "python3"
  },
  "language_info": {
   "codemirror_mode": {
    "name": "ipython",
    "version": 3
   },
   "file_extension": ".py",
   "mimetype": "text/x-python",
   "name": "python",
   "nbconvert_exporter": "python",
   "pygments_lexer": "ipython3",
   "version": "3.9.13"
  },
  "orig_nbformat": 4
 },
 "nbformat": 4,
 "nbformat_minor": 2
}
