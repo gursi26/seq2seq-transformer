{
 "cells": [
  {
   "cell_type": "code",
   "execution_count": 2,
   "metadata": {},
   "outputs": [],
   "source": [
    "import json, re, pickle"
   ]
  },
  {
   "cell_type": "code",
   "execution_count": 3,
   "metadata": {},
   "outputs": [],
   "source": [
    "glove = pickle.load(open(\"/Users/gursi/Desktop/glove-840b.pkl\", \"rb\"))\n",
    "contractions = json.load(open(\"/Users/gursi/Desktop/contractions.json\"))"
   ]
  },
  {
   "cell_type": "code",
   "execution_count": 54,
   "metadata": {},
   "outputs": [],
   "source": [
    "def preprocess(txt_file_path):\n",
    "    text = \"\".join(open(\"secret-history.txt\").readlines())\n",
    "    filtered_tokenized = []\n",
    "    for word in re.findall(r\"[\\w']+|['.,!?;\\n]\", text):\n",
    "        if word.lower() not in contractions:\n",
    "            if len(word) == 1 and word[0] == \"'\":\n",
    "                filtered_tokenized.append(word)\n",
    "            elif word[0] == \"'\" and word[-1] == \"'\":\n",
    "                filtered_tokenized.append(\"'\")\n",
    "                filtered_tokenized.append(word[1:-1])\n",
    "                filtered_tokenized.append(\"'\")\n",
    "            elif word[0] == \"'\":\n",
    "                filtered_tokenized.append(\"'\")\n",
    "                filtered_tokenized.append(word[1:])\n",
    "            elif word[-1] == \"'\":\n",
    "                filtered_tokenized.append(word[:-1])\n",
    "                filtered_tokenized.append(\"'\")\n",
    "            else:\n",
    "                filtered_tokenized.append(word)\n",
    "        else:\n",
    "            split_up = contractions[word.lower()][0].split()\n",
    "            if word[0].isupper():\n",
    "                split_up[0] = split_up[0][0].upper() + split_up[0][1:]\n",
    "            filtered_tokenized.extend(split_up)\n",
    "    vocab = sorted(list(set(filtered_tokenized)))\n",
    "    return filtered_tokenized, vocab"
   ]
  },
  {
   "cell_type": "code",
   "execution_count": 55,
   "metadata": {},
   "outputs": [],
   "source": [
    "filtered_tokenized, vocab = preprocess(\"secret-history.txt\")"
   ]
  },
  {
   "cell_type": "code",
   "execution_count": 40,
   "metadata": {},
   "outputs": [],
   "source": [
    "filtered_glove = {}\n",
    "for word in vocab:\n",
    "    if word in glove:\n",
    "        filtered_glove[word] = glove[word]"
   ]
  },
  {
   "cell_type": "code",
   "execution_count": 49,
   "metadata": {},
   "outputs": [],
   "source": [
    "pickle.dump(filtered_glove, open(\"glove.pkl\", \"wb\"))"
   ]
  }
 ],
 "metadata": {
  "kernelspec": {
   "display_name": "ml",
   "language": "python",
   "name": "python3"
  },
  "language_info": {
   "codemirror_mode": {
    "name": "ipython",
    "version": 3
   },
   "file_extension": ".py",
   "mimetype": "text/x-python",
   "name": "python",
   "nbconvert_exporter": "python",
   "pygments_lexer": "ipython3",
   "version": "3.9.13"
  },
  "orig_nbformat": 4
 },
 "nbformat": 4,
 "nbformat_minor": 2
}
